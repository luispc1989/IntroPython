{
 "cells": [
  {
   "cell_type": "code",
   "execution_count": 1,
   "id": "23a34c4d-0b0a-4ab3-bbb2-eb9db8606e2c",
   "metadata": {},
   "outputs": [],
   "source": [
    "# Import librarie\n",
    "import pandas as pd"
   ]
  },
  {
   "cell_type": "code",
   "execution_count": 2,
   "id": "4c0bce53-4e8a-4b00-b913-b38e6dffef7a",
   "metadata": {},
   "outputs": [],
   "source": [
    "# Load Kiva's Loans Dataset\n",
    "df = pd.read_csv(r\"C:\\Users\\Luís Pinto Coelho\\Desktop\\Introdução ao Python\\Assignment3\\kiva_loans.csv\")"
   ]
  },
  {
   "cell_type": "code",
   "execution_count": 3,
   "id": "5afc1a37-1318-4b83-8fe7-d2a374716e41",
   "metadata": {},
   "outputs": [
    {
     "name": "stdout",
     "output_type": "stream",
     "text": [
      "First 5 rows of the dataset:\n",
      "        id  funded_amount  loan_amount             activity          sector  \\\n",
      "0  653051          300.0        300.0  Fruits & Vegetables            Food   \n",
      "1  653053          575.0        575.0             Rickshaw  Transportation   \n",
      "2  653068          150.0        150.0       Transportation  Transportation   \n",
      "3  653063          200.0        200.0           Embroidery            Arts   \n",
      "4  653084          400.0        400.0           Milk Sales            Food   \n",
      "\n",
      "                                                 use country_code   country  \\\n",
      "0            To buy seasonal, fresh fruits to sell.            PK  Pakistan   \n",
      "1  to repair and maintain the auto rickshaw used ...           PK  Pakistan   \n",
      "2  To repair their old cycle-van and buy another ...           IN     India   \n",
      "3  to purchase an embroidery machine and a variet...           PK  Pakistan   \n",
      "4                           to purchase one buffalo.           PK  Pakistan   \n",
      "\n",
      "         region currency  partner_id                posted_time  \\\n",
      "0        Lahore      PKR       247.0  2014-01-01 06:12:39+00:00   \n",
      "1        Lahore      PKR       247.0  2014-01-01 06:51:08+00:00   \n",
      "2     Maynaguri      INR       334.0  2014-01-01 09:58:07+00:00   \n",
      "3        Lahore      PKR       247.0  2014-01-01 08:03:11+00:00   \n",
      "4  Abdul Hakeem      PKR       245.0  2014-01-01 11:53:19+00:00   \n",
      "\n",
      "              disbursed_time                funded_time  term_in_months  \\\n",
      "0  2013-12-17 08:00:00+00:00  2014-01-02 10:06:32+00:00            12.0   \n",
      "1  2013-12-17 08:00:00+00:00  2014-01-02 09:17:23+00:00            11.0   \n",
      "2  2013-12-17 08:00:00+00:00  2014-01-01 16:01:36+00:00            43.0   \n",
      "3  2013-12-24 08:00:00+00:00  2014-01-01 13:00:00+00:00            11.0   \n",
      "4  2013-12-17 08:00:00+00:00  2014-01-01 19:18:51+00:00            14.0   \n",
      "\n",
      "   lender_count                          tags borrower_genders  \\\n",
      "0            12                           NaN           female   \n",
      "1            14                           NaN   female, female   \n",
      "2             6  user_favorite, user_favorite           female   \n",
      "3             8                           NaN           female   \n",
      "4            16                           NaN           female   \n",
      "\n",
      "  repayment_interval        date  \n",
      "0          irregular  2014-01-01  \n",
      "1          irregular  2014-01-01  \n",
      "2             bullet  2014-01-01  \n",
      "3          irregular  2014-01-01  \n",
      "4            monthly  2014-01-01   \n",
      "\n",
      "Dataset Information:\n",
      "<class 'pandas.core.frame.DataFrame'>\n",
      "RangeIndex: 671205 entries, 0 to 671204\n",
      "Data columns (total 20 columns):\n",
      " #   Column              Non-Null Count   Dtype  \n",
      "---  ------              --------------   -----  \n",
      " 0   id                  671205 non-null  int64  \n",
      " 1   funded_amount       671205 non-null  float64\n",
      " 2   loan_amount         671205 non-null  float64\n",
      " 3   activity            671205 non-null  object \n",
      " 4   sector              671205 non-null  object \n",
      " 5   use                 666973 non-null  object \n",
      " 6   country_code        671197 non-null  object \n",
      " 7   country             671205 non-null  object \n",
      " 8   region              614405 non-null  object \n",
      " 9   currency            671205 non-null  object \n",
      " 10  partner_id          657698 non-null  float64\n",
      " 11  posted_time         671205 non-null  object \n",
      " 12  disbursed_time      668809 non-null  object \n",
      " 13  funded_time         622874 non-null  object \n",
      " 14  term_in_months      671205 non-null  float64\n",
      " 15  lender_count        671205 non-null  int64  \n",
      " 16  tags                499789 non-null  object \n",
      " 17  borrower_genders    666984 non-null  object \n",
      " 18  repayment_interval  671205 non-null  object \n",
      " 19  date                671205 non-null  object \n",
      "dtypes: float64(4), int64(2), object(14)\n",
      "memory usage: 102.4+ MB\n"
     ]
    }
   ],
   "source": [
    "# Inspection of the data\n",
    "print(\"First 5 rows of the dataset:\\n\", df.head(), \"\\n\\nDataset Information:\")\n",
    "df.info()"
   ]
  },
  {
   "cell_type": "code",
   "execution_count": 6,
   "id": "45ed6e37-ff7e-4f18-ae37-812e54b73dda",
   "metadata": {},
   "outputs": [
    {
     "name": "stdout",
     "output_type": "stream",
     "text": [
      "\n",
      "Filtered rows (Agriculture, Philippines, loan > 1000):\n",
      "           id  loan_amount   activity       sector      country\n",
      "3741  656579       1125.0    Flowers  Agriculture  Philippines\n",
      "3919  656910       1125.0    Farming  Agriculture  Philippines\n",
      "4207  656863       1125.0  Livestock  Agriculture  Philippines\n",
      "5032  657780       1125.0       Pigs  Agriculture  Philippines\n",
      "6021  658862       1125.0    Poultry  Agriculture  Philippines\n"
     ]
    }
   ],
   "source": [
    "# Requirement 1: Select rows using string methods and numerical conditions\n",
    "# Example: Select Loans for 'Agriculture' sector in the 'Philippines' with Loan amount > 1000\n",
    "filtered_df = df.query(\"country == 'Philippines' and sector == 'Agriculture' and loan_amount > 1000\")[['id', 'loan_amount', 'activity', 'sector', 'country']]\n",
    "print(\"\\nFiltered rows (Agriculture, Philippines, loan > 1000):\\n\", filtered_df.head())"
   ]
  },
  {
   "cell_type": "code",
   "execution_count": 8,
   "id": "31c7c9ae-938f-4ec1-83c2-aacc23b6b97d",
   "metadata": {},
   "outputs": [
    {
     "name": "stdout",
     "output_type": "stream",
     "text": [
      "\n",
      "Top 5 loans sorted by 'loan_amount' in descending order:\n",
      "           country        sector  loan_amount\n",
      "70499       Haiti   Agriculture     100000.0\n",
      "408465       Peru  Construction      50000.0\n",
      "583307  Guatemala   Agriculture      50000.0\n",
      "126839     Mexico   Agriculture      50000.0\n",
      "447374     Uganda   Agriculture      50000.0\n"
     ]
    }
   ],
   "source": [
    "# Requirment 2: Sort table using one or more columns\n",
    "# Example: Sort the data by 'Loan_amount' in descending order\n",
    "print(\"\\nTop 5 loans sorted by 'loan_amount' in descending order:\\n\", df[['country', 'sector', 'loan_amount']].sort_values(by='loan_amount', ascending=False).head())"
   ]
  },
  {
   "cell_type": "code",
   "execution_count": 9,
   "id": "bc504818-98d7-4bfd-8394-f3cdf45db78c",
   "metadata": {},
   "outputs": [
    {
     "name": "stdout",
     "output_type": "stream",
     "text": [
      "\n",
      "Loan summary by country (total, average, count):\n",
      "        country  total_loan_amount  average_loan_amount  loan_count\n",
      "1  Afghanistan            14000.0          7000.000000           2\n",
      "2      Albania          2666500.0          1378.748707        1934\n",
      "3      Armenia         12915400.0          1496.396710        8631\n",
      "4   Azerbaijan          2888700.0          1485.192802        1945\n",
      "5       Belize           114025.0           912.200000         125\n",
      "6        Benin           518950.0          1044.164990         497\n"
     ]
    }
   ],
   "source": [
    "# Requirment 3: Group and aggregate rows using \"groupby\"\n",
    "# Example: Group by 'country' and calculate total and average loan amount \n",
    "country_loan_summary = df.groupby('country', as_index=False).agg(total_loan_amount=('loan_amount', 'sum'), average_loan_amount=('loan_amount', 'mean'), loan_count=('loan_amount', 'count'))\n",
    "print(\"\\nLoan summary by country (total, average, count):\\n\", country_loan_summary.head(6).set_index(pd.Index(range(1, len(country_loan_summary.head(6)) + 1))))"
   ]
  },
  {
   "cell_type": "code",
   "execution_count": 10,
   "id": "feef9cda-042d-4c2b-a980-69a52276b98a",
   "metadata": {},
   "outputs": [
    {
     "name": "stdout",
     "output_type": "stream",
     "text": [
      "\n",
      "Loan size categories (first 5 rows):\n",
      "    loan_amount loan_size_category\n",
      "1        300.0              Small\n",
      "2        575.0             Medium\n",
      "3        150.0              Small\n",
      "4        200.0              Small\n",
      "5        400.0              Small\n"
     ]
    }
   ],
   "source": [
    "# Requirement 4: Create a new variable with \"apply\" and \"Lambda\"\n",
    "# Example: Categorize loans into 'Small', 'Medium', and 'Large' based on 'Loan_amount'\n",
    "df['loan_size_category'] = df['loan_amount'].apply(lambda x: 'Small' if x < 500 else 'Medium' if x < 2000 else 'Large')\n",
    "print(\"\\nLoan size categories (first 5 rows):\\n\", df[['loan_amount', 'loan_size_category']].head(5).set_index(pd.Index(range(1, len(df.head(5)) + 1))))"
   ]
  },
  {
   "cell_type": "code",
   "execution_count": 12,
   "id": "f4d00303-3167-4434-a6d7-0925487b2274",
   "metadata": {},
   "outputs": [
    {
     "name": "stdout",
     "output_type": "stream",
     "text": [
      "\n",
      "Transformed DataFrame successfully saved to: C:\\Users\\Luís Pinto Coelho\\Desktop\\Introdução ao Python\\Assignment3\\kiva_loans_analysis.csv\n"
     ]
    }
   ],
   "source": [
    "# Save the transformed DataFrame as a new CSV in UTF-8 format with comma separator\n",
    "output_path = r\"C:\\Users\\Luís Pinto Coelho\\Desktop\\Introdução ao Python\\Assignment3\\kiva_loans_analysis.csv\"\n",
    "with open(output_path, 'w', encoding='utf-8') as file:\n",
    "    file.write('sep=,\\n')  # Escreve a linha separadora no início\n",
    "    df.to_csv(file, index=False, encoding='utf-8', sep=',')  # Salva o DataFrame no arquivo\n",
    "print(f\"\\nTransformed DataFrame successfully saved to: {output_path}\")"
   ]
  },
  {
   "cell_type": "code",
   "execution_count": null,
   "id": "b1cae3f8-bf45-4720-b696-23ba1c98b9ba",
   "metadata": {},
   "outputs": [],
   "source": []
  }
 ],
 "metadata": {
  "kernelspec": {
   "display_name": "Python 3 (ipykernel)",
   "language": "python",
   "name": "python3"
  },
  "language_info": {
   "codemirror_mode": {
    "name": "ipython",
    "version": 3
   },
   "file_extension": ".py",
   "mimetype": "text/x-python",
   "name": "python",
   "nbconvert_exporter": "python",
   "pygments_lexer": "ipython3",
   "version": "3.12.6"
  }
 },
 "nbformat": 4,
 "nbformat_minor": 5
}
